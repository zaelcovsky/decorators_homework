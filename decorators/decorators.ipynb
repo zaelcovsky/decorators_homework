{
  "nbformat": 4,
  "nbformat_minor": 0,
  "metadata": {
    "colab": {
      "provenance": []
    },
    "kernelspec": {
      "name": "python3",
      "display_name": "Python 3"
    },
    "language_info": {
      "name": "python"
    }
  },
  "cells": [
    {
      "cell_type": "markdown",
      "source": [
        "# Домашнее задание: декораторы"
      ],
      "metadata": {
        "id": "QY4qPJPpgyIS"
      }
    },
    {
      "cell_type": "markdown",
      "source": [
        "## Импорт библиотек, установка констант"
      ],
      "metadata": {
        "id": "Chacc6YchldZ"
      }
    },
    {
      "cell_type": "code",
      "source": [
        "import requests\n",
        "import time\n",
        "import re\n",
        "\n",
        "from random import randint\n",
        "from functools import wraps\n",
        "from time import perf_counter\n",
        "\n",
        "BOOK_PATH = 'https://www.gutenberg.org/files/2638/2638-0.txt'"
      ],
      "metadata": {
        "id": "w8iKrWvwhrFd"
      },
      "execution_count": 12,
      "outputs": []
    },
    {
      "cell_type": "markdown",
      "source": [
        "## Задание 1\n",
        "Реализуйте декоратор ```benchmark(func)```, выводящий время, которое заняло выполнение декорируемой функции"
      ],
      "metadata": {
        "id": "kARfL8ifg4MH"
      }
    },
    {
      "cell_type": "code",
      "execution_count": 13,
      "metadata": {
        "id": "hNHNWPhngrUl"
      },
      "outputs": [],
      "source": [
        "\n",
        "\n",
        "def benchmark(func):\n",
        "    \"\"\"\n",
        "    Декоратор, выводящий время  в секундах, которое заняло выполнение декорируемой функции\n",
        "    \"\"\"\n",
        "\n",
        "    @wraps(func)\n",
        "    def wrapper(*args, **kwargs):\n",
        "        time_start = perf_counter()\n",
        "        result = func(*args, **kwargs)\n",
        "        time_end = perf_counter()\n",
        "        time_duration = time_end - time_start\n",
        "        print(f'Время выполнения функции {func.__name__} {time_duration:.6f} секунд')\n",
        "        return result\n",
        "    return wrapper\n"
      ]
    },
    {
      "cell_type": "markdown",
      "source": [
        "## Задание 2\n",
        "Реализуйте декоратор ```logging(func)```, который выводит аргументы с которыми была вызвана функция"
      ],
      "metadata": {
        "id": "tGlbUKjihL5n"
      }
    },
    {
      "cell_type": "code",
      "source": [
        "\n",
        "def logging(func):\n",
        "    \"\"\"\n",
        "    Декоратор, который выводит аргументы с которыми была вызвана функция\n",
        "    \"\"\"\n",
        "\n",
        "    @wraps(func)\n",
        "    def wrapper(*args, **kwargs):\n",
        "        print(\"Функция вызвана с аргументами:\")\n",
        "        if args:\n",
        "          print(\"Позиционные:\")\n",
        "          for _ in args:\n",
        "            print(_)\n",
        "        if kwargs:\n",
        "          print(\"Именованные:\")\n",
        "          for key, value in kwargs.items():\n",
        "            print(f\"{key}: {value}\")\n",
        "        if not args and not kwargs:\n",
        "            print(\"Аргументы отсутствуют\")\n",
        "        result = func(*args, **kwargs)\n",
        "        return result\n",
        "    return wrapper\n"
      ],
      "metadata": {
        "id": "wugOZDLqhNe-"
      },
      "execution_count": 14,
      "outputs": []
    },
    {
      "cell_type": "markdown",
      "source": [
        "## Задание 3\n",
        "Реализуйте декоратор ```counter(func)```, считающий и выводящий количество вызовов декорируемой функции  \n",
        "\n",
        "---\n",
        "\n",
        "Декоратор реализован таким образом, что сохраняет количество вызовов каждой функции отдельно. Для обнуления количества вызовов конкретной функции реализована функция ```counter_truncate(func)```."
      ],
      "metadata": {
        "id": "Sq1tv5fshTfv"
      }
    },
    {
      "cell_type": "code",
      "source": [
        "def counter(func):\n",
        "    \"\"\"\n",
        "    Декоратор, считающий и выводящий название и количество вызовов декорируемой функции\n",
        "    \"\"\"\n",
        "    global all_counters\n",
        "    all_counters = {}\n",
        "\n",
        "    @wraps(func)\n",
        "    def wrapper(*args, **kwargs):\n",
        "        result = func(*args, **kwargs)\n",
        "        if func.__name__ in all_counters:\n",
        "            before = all_counters[func.__name__]\n",
        "            all_counters[func.__name__] = before + 1\n",
        "        if func.__name__ not in all_counters:\n",
        "            all_counters[func.__name__] = 1\n",
        "        print(f\"Функция {func.__name__} была вызвана: {all_counters[func.__name__]} раз(a)\")\n",
        "        return result\n",
        "    return wrapper\n",
        "\n",
        "\n",
        "def counter_truncate(func):\n",
        "    \"\"\"\n",
        "    Функция, обнуляющая количество вызовов декорируемой функции\n",
        "    \"\"\"\n",
        "    all_counters[func.__name__] = 0\n",
        "\n",
        "\n",
        "# Пример\n",
        "# Объявим 2 функции:\n",
        "@counter\n",
        "def first():\n",
        "    pass\n",
        "\n",
        "@counter\n",
        "def second():\n",
        "    pass\n",
        "\n",
        "# Вызовем их:\n",
        "first()\n",
        "\n",
        "for _ in range(3):\n",
        "    second()\n",
        "\n",
        "# Обнулим функцию second:\n",
        "counter_truncate(second)\n",
        "\n",
        "# Вызовем их повторно:\n",
        "first()\n",
        "\n",
        "for _ in range(3):\n",
        "    second()\n",
        ""
      ],
      "metadata": {
        "colab": {
          "base_uri": "https://localhost:8080/"
        },
        "id": "ArF_8hFEH3UX",
        "outputId": "daa80e81-e297-4d66-e28f-e98e53db52b6"
      },
      "execution_count": 15,
      "outputs": [
        {
          "output_type": "stream",
          "name": "stdout",
          "text": [
            "Функция first была вызвана: 1 раз(a)\n",
            "Функция second была вызвана: 1 раз(a)\n",
            "Функция second была вызвана: 2 раз(a)\n",
            "Функция second была вызвана: 3 раз(a)\n",
            "Функция first была вызвана: 2 раз(a)\n",
            "Функция second была вызвана: 1 раз(a)\n",
            "Функция second была вызвана: 2 раз(a)\n",
            "Функция second была вызвана: 3 раз(a)\n"
          ]
        }
      ]
    },
    {
      "cell_type": "markdown",
      "source": [
        "## Задание 4  \n",
        "Реализуйте декоратор ```memo(func)```, запоминающий результаты исполнения функции ```func```, чьи аргументы ```*args``` должны быть хешируемыми. Сравните время выполнения рекурсивной реализации расчета чисел Фибоначчи без декоратора и с ним.  \n",
        "\n",
        "---\n",
        "\n",
        "В рамках этого задания был реализован класс ```LRUCache``` (собственная реализация LRU кэша на базе словаря). Декоратор ```memo``` проверяет на хэшируемость все аргументы передаваемой в него функции. Если все аргументы хэшируемы - результат выполнения функции кэшируется. Если хоть один аргумент не хэшируем - результат выполнения функции не кэшируется."
      ],
      "metadata": {
        "id": "uHn8Adfshz5q"
      }
    },
    {
      "cell_type": "code",
      "source": [
        "class LRUCache:\n",
        "\n",
        "    def __init__(self, limit: int = 124):\n",
        "        self.limit = limit\n",
        "        self.dict_cache = {}\n",
        "        if not isinstance(limit, int):\n",
        "            raise ValueError(\"limit must be an integer\")\n",
        "        if limit < 0:\n",
        "            raise ValueError(\"limit must be a positive number\")\n",
        "\n",
        "    def get(self, key):\n",
        "        if key in self.dict_cache:\n",
        "            value = self.dict_cache.pop(key)\n",
        "            self.dict_cache[key] = value\n",
        "            return value\n",
        "        return None\n",
        "\n",
        "    def set(self, key, value):\n",
        "        if len(self.dict_cache.items()) < self.limit:\n",
        "            if key not in self.dict_cache:\n",
        "                self.dict_cache[key] = value\n",
        "            elif key in self.dict_cache:\n",
        "                self.dict_cache.pop(key)\n",
        "                self.dict_cache[key] = value\n",
        "        else:\n",
        "            if self.limit == 0:\n",
        "                pass\n",
        "            elif key not in self.dict_cache:\n",
        "                self.dict_cache.pop(next(iter(self.dict_cache)))\n",
        "                self.dict_cache[key] = value\n",
        "            elif key in self.dict_cache:\n",
        "                self.dict_cache.pop(key)\n",
        "                self.dict_cache[key] = value\n",
        "\n",
        "\n",
        "def memo(func):\n",
        "    \"\"\"\n",
        "    Декоратор, запоминающий результаты исполнения функции func, чьи аргументы args должны быть хешируемыми\n",
        "    \"\"\"\n",
        "    lrucache = LRUCache()\n",
        "\n",
        "    @wraps(func)\n",
        "    def memo_wrapper(*args):\n",
        "        try:\n",
        "            [hash(arg) for arg in args]\n",
        "            if lrucache.get(str(args)):\n",
        "                result = lrucache.get(str(args))\n",
        "            else:\n",
        "                result = func(*args)\n",
        "                lrucache.set(str(args), result)\n",
        "            return result\n",
        "        except TypeError:\n",
        "            result = func(*args)\n",
        "            return result\n",
        "    return memo_wrapper\n"
      ],
      "metadata": {
        "id": "R7uu6WtGifNX"
      },
      "execution_count": 16,
      "outputs": []
    },
    {
      "cell_type": "markdown",
      "source": [
        "## Тестирование"
      ],
      "metadata": {
        "id": "Zn5UQCa_izxo"
      }
    },
    {
      "cell_type": "code",
      "source": [
        "@counter\n",
        "@logging\n",
        "@benchmark\n",
        "def word_count(word, url=BOOK_PATH):\n",
        "    \"\"\"\n",
        "    Функция для посчета указанного слова на html-странице\n",
        "    \"\"\"\n",
        "\n",
        "    # отправляем запрос в библиотеку Gutenberg и забираем текст\n",
        "    raw = requests.get(url).text\n",
        "\n",
        "    # заменяем в тексте все небуквенные символы на пробелы\n",
        "    processed_book = re.sub('[\\W]+' , ' ', raw).lower()\n",
        "\n",
        "    # считаем\n",
        "    cnt = len(re.findall(word.lower(), processed_book))\n",
        "\n",
        "    return f\"Cлово {word} встречается {cnt} раз\"\n",
        "\n",
        "print(word_count('whole'))"
      ],
      "metadata": {
        "id": "CHCJ64I8i2QB",
        "colab": {
          "base_uri": "https://localhost:8080/"
        },
        "outputId": "508e438f-e7c8-4e80-a2af-d15bbab699fe"
      },
      "execution_count": 17,
      "outputs": [
        {
          "output_type": "stream",
          "name": "stdout",
          "text": [
            "Функция вызвана с аргументами:\n",
            "Позиционные:\n",
            "whole\n",
            "Время выполнения функции word_count 0.602267 секунд\n",
            "Функция word_count была вызвана: 1 раз(a)\n",
            "Cлово whole встречается 176 раз\n"
          ]
        }
      ]
    },
    {
      "cell_type": "code",
      "source": [
        "@benchmark\n",
        "def fib(n):\n",
        "    if n < 2:\n",
        "        return n\n",
        "    return fib(n-2) + fib(n-1)\n",
        "\n",
        "# измеряем время выполнения с помощью @benchmark (без кэширования)\n",
        "fib(5)"
      ],
      "metadata": {
        "id": "ZE4Rfn-hh3k3",
        "colab": {
          "base_uri": "https://localhost:8080/"
        },
        "outputId": "b92440ff-b3d5-4e8c-b577-4c30f408fb4e"
      },
      "execution_count": 54,
      "outputs": [
        {
          "output_type": "stream",
          "name": "stdout",
          "text": [
            "Время выполнения функции fib 0.000001 секунд\n",
            "Время выполнения функции fib 0.000001 секунд\n",
            "Время выполнения функции fib 0.000001 секунд\n",
            "Время выполнения функции fib 0.000906 секунд\n",
            "Время выполнения функции fib 0.002421 секунд\n",
            "Время выполнения функции fib 0.000001 секунд\n",
            "Время выполнения функции fib 0.000001 секунд\n",
            "Время выполнения функции fib 0.001738 секунд\n",
            "Время выполнения функции fib 0.000001 секунд\n",
            "Время выполнения функции fib 0.000001 секунд\n",
            "Время выполнения функции fib 0.000000 секунд\n",
            "Время выполнения функции fib 0.000035 секунд\n",
            "Время выполнения функции fib 0.000082 секунд\n",
            "Время выполнения функции fib 0.002098 секунд\n",
            "Время выполнения функции fib 0.004994 секунд\n"
          ]
        },
        {
          "output_type": "execute_result",
          "data": {
            "text/plain": [
              "5"
            ]
          },
          "metadata": {},
          "execution_count": 54
        }
      ]
    },
    {
      "cell_type": "code",
      "source": [
        "def fib(n):\n",
        "    if n < 2:\n",
        "        return n\n",
        "    return fib(n-2) + fib(n-1)"
      ],
      "metadata": {
        "id": "_3UGrtSfS6Mt"
      },
      "execution_count": 66,
      "outputs": []
    },
    {
      "cell_type": "code",
      "source": [
        "# измеряем время выполнения с помощью %%time (без кэширования)\n",
        "%%time\n",
        "fib(20)"
      ],
      "metadata": {
        "colab": {
          "base_uri": "https://localhost:8080/"
        },
        "id": "SzmCeM-kQ3f-",
        "outputId": "e921949c-c081-4ffa-86d8-984ba42288ed"
      },
      "execution_count": 67,
      "outputs": [
        {
          "output_type": "stream",
          "name": "stdout",
          "text": [
            "CPU times: user 4.31 ms, sys: 0 ns, total: 4.31 ms\n",
            "Wall time: 5.71 ms\n"
          ]
        },
        {
          "output_type": "execute_result",
          "data": {
            "text/plain": [
              "6765"
            ]
          },
          "metadata": {},
          "execution_count": 67
        }
      ]
    },
    {
      "cell_type": "code",
      "source": [
        "@memo\n",
        "@benchmark\n",
        "def fib(n):\n",
        "    if n < 2:\n",
        "        return n\n",
        "    return fib(n-2) + fib(n-1)\n",
        "\n",
        "# измеряем время выполнения с помощью @benchmark (c кэшированием)\n",
        "fib(5)"
      ],
      "metadata": {
        "id": "W9B3e-t9iTUj",
        "colab": {
          "base_uri": "https://localhost:8080/"
        },
        "outputId": "38f081f1-99fd-42fe-d068-a6592fcd2634"
      },
      "execution_count": 58,
      "outputs": [
        {
          "output_type": "stream",
          "name": "stdout",
          "text": [
            "Время выполнения функции fib 0.000001 секунд\n",
            "Время выполнения функции fib 0.000001 секунд\n",
            "Время выполнения функции fib 0.000050 секунд\n",
            "Время выполнения функции fib 0.001714 секунд\n",
            "Время выполнения функции fib 0.000007 секунд\n",
            "Время выполнения функции fib 0.001767 секунд\n"
          ]
        },
        {
          "output_type": "execute_result",
          "data": {
            "text/plain": [
              "5"
            ]
          },
          "metadata": {},
          "execution_count": 58
        }
      ]
    },
    {
      "cell_type": "code",
      "source": [
        "@memo\n",
        "def fib(n):\n",
        "    if n < 2:\n",
        "        return n\n",
        "    return fib(n-2) + fib(n-1)"
      ],
      "metadata": {
        "id": "F3CiS7iITKx8"
      },
      "execution_count": 68,
      "outputs": []
    },
    {
      "cell_type": "code",
      "source": [
        "# измеряем время выполнения с помощью %%time (c кэшированием)\n",
        "%%time\n",
        "fib(20)"
      ],
      "metadata": {
        "colab": {
          "base_uri": "https://localhost:8080/"
        },
        "id": "-zqiXmXCQ9rb",
        "outputId": "853df41a-0f9a-4397-c0ad-87e7d4a18964"
      },
      "execution_count": 69,
      "outputs": [
        {
          "output_type": "stream",
          "name": "stdout",
          "text": [
            "CPU times: user 171 µs, sys: 0 ns, total: 171 µs\n",
            "Wall time: 175 µs\n"
          ]
        },
        {
          "output_type": "execute_result",
          "data": {
            "text/plain": [
              "6765"
            ]
          },
          "metadata": {},
          "execution_count": 69
        }
      ]
    }
  ]
}